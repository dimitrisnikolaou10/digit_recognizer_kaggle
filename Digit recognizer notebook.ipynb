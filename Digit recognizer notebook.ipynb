{
 "cells": [
  {
   "cell_type": "markdown",
   "metadata": {},
   "source": [
    "#### This work was developed as part of a Kaggle competition \n",
    "#### In this notebook I will train a CNN to classify handwritten digits. I will first train a Random Forest, \n",
    "#### then move on to training a simple fully connected neural net and finally I will work on some CNN alternatives.\n",
    "#### I will be using Tensorflow backed Keras in doing this."
   ]
  },
  {
   "cell_type": "code",
   "execution_count": 131,
   "metadata": {},
   "outputs": [],
   "source": [
    "import numpy as np\n",
    "import pandas as pd\n",
    "import matplotlib.pyplot as plt\n",
    "import matplotlib.image as mpimg\n",
    "import seaborn as sns\n",
    "%matplotlib inline\n",
    "import time\n",
    "import itertools\n",
    "\n",
    "np.random.seed(42)\n",
    "random_seed=42\n",
    "\n",
    "from sklearn.model_selection import train_test_split\n",
    "from sklearn.metrics import confusion_matrix, accuracy_score\n",
    "\n",
    "from sklearn.ensemble import RandomForestClassifier\n",
    "\n",
    "from keras.utils.np_utils import to_categorical # convert to one-hot-encoding\n",
    "from keras.models import Sequential\n",
    "from keras.layers import Dense, Dropout, Flatten, Conv2D, MaxPool2D\n",
    "from keras.optimizers import Adam\n",
    "from keras.preprocessing.image import ImageDataGenerator\n",
    "\n"
   ]
  },
  {
   "cell_type": "code",
   "execution_count": 69,
   "metadata": {},
   "outputs": [],
   "source": [
    "#2 Explore the data"
   ]
  },
  {
   "cell_type": "code",
   "execution_count": 81,
   "metadata": {},
   "outputs": [],
   "source": [
    "train = pd.read_csv(\"data/train.csv\")\n",
    "test = pd.read_csv(\"data/test.csv\")"
   ]
  },
  {
   "cell_type": "code",
   "execution_count": 82,
   "metadata": {},
   "outputs": [],
   "source": [
    "Y_train, X_train = train[\"label\"], train\n",
    "X_test = test\n",
    "del X_train[\"label\"]"
   ]
  },
  {
   "cell_type": "code",
   "execution_count": 83,
   "metadata": {},
   "outputs": [
    {
     "name": "stdout",
     "output_type": "stream",
     "text": [
      "Nulls in training set: 0\n",
      "Nulls in labels: 0\n",
      "Classes are balanced.\n"
     ]
    },
    {
     "data": {
      "text/plain": [
       "<BarContainer object of 10 artists>"
      ]
     },
     "execution_count": 83,
     "metadata": {},
     "output_type": "execute_result"
    },
    {
     "data": {
      "image/png": "[encoded data removed]",
      "text/plain": [
       "<Figure size 432x288 with 1 Axes>"
      ]
     },
     "metadata": {
      "needs_background": "light"
     },
     "output_type": "display_data"
    }
   ],
   "source": [
    "check_nulls_train = X_train.isna().sum()\n",
    "print(\"Nulls in training set: \" + str(len(check_nulls[check_nulls!= 0])))\n",
    "\n",
    "check_nulls_train = Y_train.isna().sum()\n",
    "print(\"Nulls in labels: \" + str(len(check_nulls[check_nulls!= 0])))\n",
    "\n",
    "print(\"Classes are balanced.\")\n",
    "plt.bar(Y_train.value_counts().index, Y_train.value_counts(), tick_label=Y_train.value_counts().index)"
   ]
  },
  {
   "cell_type": "code",
   "execution_count": 84,
   "metadata": {},
   "outputs": [],
   "source": [
    "# Normalising the data for quicker convergence\n",
    "X_train = X_train/255\n",
    "X_test = X_test/255\n",
    "\n",
    "# One hot encoding on labels\n",
    "Y_train = to_categorical(Y_train, num_classes = 10)\n",
    "X_train, X_val, Y_train, Y_val = train_test_split(X_train, Y_train, test_size=0.1, random_state=random_seed)"
   ]
  },
  {
   "cell_type": "code",
   "execution_count": 99,
   "metadata": {},
   "outputs": [
    {
     "name": "stdout",
     "output_type": "stream",
     "text": [
      "Accuracy with a Random Forest model: 88.79%\n",
      "Total time for training: 26seconds\n"
     ]
    }
   ],
   "source": [
    "# Let's first fit a simple random forest to obtain a benchmark. Not changing any hyperparams on this one.\n",
    "start = int(time.time())\n",
    "rf = RandomForestClassifier()\n",
    "rf.fit(X_train, Y_train)\n",
    "Y_pred = rf.predict(X_val)\n",
    "rf_accuracy = 100*round(accuracy_score(Y_val, Y_pred), 4)\n",
    "end = int(time.time())\n",
    "print(\"Accuracy with a Random Forest model: {}{}\".format(rf_accuracy,\"%\"))\n",
    "print(\"Total time for training: {}{}\".format(end-start, \"seconds\"))"
   ]
  },
  {
   "cell_type": "code",
   "execution_count": 111,
   "metadata": {},
   "outputs": [
    {
     "name": "stdout",
     "output_type": "stream",
     "text": [
      "Epoch 1/100\n",
      "378/378 [==============================] - 0s 816us/step - loss: 0.6656 - accuracy: 0.8007\n",
      "Epoch 2/100\n",
      "378/378 [==============================] - 0s 795us/step - loss: 0.2785 - accuracy: 0.9169\n",
      "Epoch 3/100\n",
      "378/378 [==============================] - 0s 754us/step - loss: 0.2236 - accuracy: 0.9323\n",
      "Epoch 4/100\n",
      "378/378 [==============================] - 0s 748us/step - loss: 0.1951 - accuracy: 0.9404\n",
      "Epoch 5/100\n",
      "378/378 [==============================] - 0s 734us/step - loss: 0.1742 - accuracy: 0.9472\n",
      "Epoch 6/100\n",
      "378/378 [==============================] - 0s 739us/step - loss: 0.1603 - accuracy: 0.9506\n",
      "Epoch 7/100\n",
      "378/378 [==============================] - 0s 732us/step - loss: 0.1490 - accuracy: 0.9537\n",
      "Epoch 8/100\n",
      "378/378 [==============================] - 0s 743us/step - loss: 0.1375 - accuracy: 0.9571\n",
      "Epoch 9/100\n",
      "378/378 [==============================] - 0s 729us/step - loss: 0.1300 - accuracy: 0.9590\n",
      "Epoch 10/100\n",
      "378/378 [==============================] - 0s 771us/step - loss: 0.1223 - accuracy: 0.9610\n",
      "Epoch 11/100\n",
      "378/378 [==============================] - 0s 796us/step - loss: 0.1171 - accuracy: 0.9628\n",
      "Epoch 12/100\n",
      "378/378 [==============================] - 0s 754us/step - loss: 0.1116 - accuracy: 0.9646\n",
      "Epoch 13/100\n",
      "378/378 [==============================] - 0s 738us/step - loss: 0.1052 - accuracy: 0.9672\n",
      "Epoch 14/100\n",
      "378/378 [==============================] - 0s 734us/step - loss: 0.1031 - accuracy: 0.9666\n",
      "Epoch 15/100\n",
      "378/378 [==============================] - 0s 738us/step - loss: 0.0982 - accuracy: 0.9683\n",
      "Epoch 16/100\n",
      "378/378 [==============================] - 0s 740us/step - loss: 0.0965 - accuracy: 0.9693\n",
      "Epoch 17/100\n",
      "378/378 [==============================] - 0s 736us/step - loss: 0.0945 - accuracy: 0.9686\n",
      "Epoch 18/100\n",
      "378/378 [==============================] - 0s 759us/step - loss: 0.0885 - accuracy: 0.9717\n",
      "Epoch 19/100\n",
      "378/378 [==============================] - 0s 729us/step - loss: 0.0880 - accuracy: 0.9715\n",
      "Epoch 20/100\n",
      "378/378 [==============================] - 0s 741us/step - loss: 0.0851 - accuracy: 0.9725\n",
      "Epoch 21/100\n",
      "378/378 [==============================] - 0s 748us/step - loss: 0.0798 - accuracy: 0.9731\n",
      "Epoch 22/100\n",
      "378/378 [==============================] - 0s 742us/step - loss: 0.0809 - accuracy: 0.9731\n",
      "Epoch 23/100\n",
      "378/378 [==============================] - 0s 735us/step - loss: 0.0796 - accuracy: 0.9743\n",
      "Epoch 24/100\n",
      "378/378 [==============================] - 0s 750us/step - loss: 0.0783 - accuracy: 0.9738\n",
      "Epoch 25/100\n",
      "378/378 [==============================] - 0s 744us/step - loss: 0.0719 - accuracy: 0.9762\n",
      "Epoch 26/100\n",
      "378/378 [==============================] - 0s 746us/step - loss: 0.0713 - accuracy: 0.9770\n",
      "Epoch 27/100\n",
      "378/378 [==============================] - 0s 737us/step - loss: 0.0695 - accuracy: 0.9767\n",
      "Epoch 28/100\n",
      "378/378 [==============================] - 0s 762us/step - loss: 0.0716 - accuracy: 0.9766\n",
      "Epoch 29/100\n",
      "378/378 [==============================] - 0s 739us/step - loss: 0.0687 - accuracy: 0.9767\n",
      "Epoch 30/100\n",
      "378/378 [==============================] - 0s 727us/step - loss: 0.0674 - accuracy: 0.9778\n",
      "Epoch 31/100\n",
      "378/378 [==============================] - 0s 749us/step - loss: 0.0666 - accuracy: 0.9769\n",
      "Epoch 32/100\n",
      "378/378 [==============================] - 0s 744us/step - loss: 0.0648 - accuracy: 0.9777\n",
      "Epoch 33/100\n",
      "378/378 [==============================] - 0s 739us/step - loss: 0.0644 - accuracy: 0.9785\n",
      "Epoch 34/100\n",
      "378/378 [==============================] - 0s 733us/step - loss: 0.0623 - accuracy: 0.9792\n",
      "Epoch 35/100\n",
      "378/378 [==============================] - 0s 742us/step - loss: 0.0618 - accuracy: 0.9789\n",
      "Epoch 36/100\n",
      "378/378 [==============================] - 0s 775us/step - loss: 0.0612 - accuracy: 0.9796\n",
      "Epoch 37/100\n",
      "378/378 [==============================] - 0s 766us/step - loss: 0.0620 - accuracy: 0.9798\n",
      "Epoch 38/100\n",
      "378/378 [==============================] - 0s 747us/step - loss: 0.0581 - accuracy: 0.9801\n",
      "Epoch 39/100\n",
      "378/378 [==============================] - 0s 774us/step - loss: 0.0580 - accuracy: 0.9799\n",
      "Epoch 40/100\n",
      "378/378 [==============================] - 0s 740us/step - loss: 0.0568 - accuracy: 0.9809\n",
      "Epoch 41/100\n",
      "378/378 [==============================] - 0s 744us/step - loss: 0.0583 - accuracy: 0.9804\n",
      "Epoch 42/100\n",
      "378/378 [==============================] - 0s 736us/step - loss: 0.0542 - accuracy: 0.9814\n",
      "Epoch 43/100\n",
      "378/378 [==============================] - 0s 756us/step - loss: 0.0581 - accuracy: 0.9800\n",
      "Epoch 44/100\n",
      "378/378 [==============================] - 0s 746us/step - loss: 0.0531 - accuracy: 0.9823\n",
      "Epoch 45/100\n",
      "378/378 [==============================] - 0s 759us/step - loss: 0.0568 - accuracy: 0.9806\n",
      "Epoch 46/100\n",
      "378/378 [==============================] - 0s 757us/step - loss: 0.0523 - accuracy: 0.9823\n",
      "Epoch 47/100\n",
      "378/378 [==============================] - 0s 765us/step - loss: 0.0527 - accuracy: 0.9817\n",
      "Epoch 48/100\n",
      "378/378 [==============================] - 0s 742us/step - loss: 0.0524 - accuracy: 0.9827\n",
      "Epoch 49/100\n",
      "378/378 [==============================] - 0s 744us/step - loss: 0.0521 - accuracy: 0.9822\n",
      "Epoch 50/100\n",
      "378/378 [==============================] - 0s 756us/step - loss: 0.0501 - accuracy: 0.9837\n",
      "Epoch 51/100\n",
      "378/378 [==============================] - 0s 744us/step - loss: 0.0512 - accuracy: 0.9828\n",
      "Epoch 52/100\n",
      "378/378 [==============================] - 0s 743us/step - loss: 0.0503 - accuracy: 0.9833\n",
      "Epoch 53/100\n",
      "378/378 [==============================] - 0s 782us/step - loss: 0.0490 - accuracy: 0.9829\n",
      "Epoch 54/100\n",
      "378/378 [==============================] - 0s 760us/step - loss: 0.0488 - accuracy: 0.9839\n",
      "Epoch 55/100\n",
      "378/378 [==============================] - 0s 758us/step - loss: 0.0495 - accuracy: 0.9832\n",
      "Epoch 56/100\n",
      "378/378 [==============================] - 0s 740us/step - loss: 0.0502 - accuracy: 0.9834\n",
      "Epoch 57/100\n",
      "378/378 [==============================] - 0s 760us/step - loss: 0.0495 - accuracy: 0.9835\n",
      "Epoch 58/100\n",
      "378/378 [==============================] - 0s 747us/step - loss: 0.0512 - accuracy: 0.9829\n",
      "Epoch 59/100\n",
      "378/378 [==============================] - 0s 791us/step - loss: 0.0489 - accuracy: 0.9833\n",
      "Epoch 60/100\n",
      "378/378 [==============================] - 0s 767us/step - loss: 0.0470 - accuracy: 0.9836\n",
      "Epoch 61/100\n",
      "378/378 [==============================] - 0s 776us/step - loss: 0.0460 - accuracy: 0.9848\n",
      "Epoch 62/100\n",
      "378/378 [==============================] - 0s 775us/step - loss: 0.0452 - accuracy: 0.9844\n",
      "Epoch 63/100\n",
      "378/378 [==============================] - 0s 888us/step - loss: 0.0480 - accuracy: 0.9835\n",
      "Epoch 64/100\n",
      "378/378 [==============================] - 0s 780us/step - loss: 0.0467 - accuracy: 0.9839\n",
      "Epoch 65/100\n",
      "378/378 [==============================] - 0s 761us/step - loss: 0.0472 - accuracy: 0.9840\n",
      "Epoch 66/100\n",
      "378/378 [==============================] - 0s 779us/step - loss: 0.0433 - accuracy: 0.9850\n",
      "Epoch 67/100\n",
      "378/378 [==============================] - 0s 813us/step - loss: 0.0467 - accuracy: 0.9840\n",
      "Epoch 68/100\n",
      "378/378 [==============================] - 0s 757us/step - loss: 0.0429 - accuracy: 0.9857\n",
      "Epoch 69/100\n",
      "378/378 [==============================] - 0s 815us/step - loss: 0.0420 - accuracy: 0.9858\n",
      "Epoch 70/100\n",
      "378/378 [==============================] - 0s 753us/step - loss: 0.0429 - accuracy: 0.9848\n",
      "Epoch 71/100\n",
      "378/378 [==============================] - 0s 799us/step - loss: 0.0460 - accuracy: 0.9850\n",
      "Epoch 72/100\n",
      "378/378 [==============================] - 0s 764us/step - loss: 0.0446 - accuracy: 0.9844\n",
      "Epoch 73/100\n",
      "378/378 [==============================] - 0s 762us/step - loss: 0.0438 - accuracy: 0.9855\n",
      "Epoch 74/100\n",
      "378/378 [==============================] - 0s 836us/step - loss: 0.0378 - accuracy: 0.9874\n",
      "Epoch 75/100\n",
      "378/378 [==============================] - 0s 792us/step - loss: 0.0440 - accuracy: 0.9860\n",
      "Epoch 76/100\n",
      "378/378 [==============================] - 0s 764us/step - loss: 0.0401 - accuracy: 0.9857\n",
      "Epoch 77/100\n",
      "378/378 [==============================] - 0s 768us/step - loss: 0.0440 - accuracy: 0.9855\n",
      "Epoch 78/100\n",
      "378/378 [==============================] - 0s 782us/step - loss: 0.0423 - accuracy: 0.9853\n",
      "Epoch 79/100\n"
     ]
    },
    {
     "name": "stdout",
     "output_type": "stream",
     "text": [
      "378/378 [==============================] - 0s 748us/step - loss: 0.0417 - accuracy: 0.9864\n",
      "Epoch 80/100\n",
      "378/378 [==============================] - 0s 867us/step - loss: 0.0398 - accuracy: 0.9869\n",
      "Epoch 81/100\n",
      "378/378 [==============================] - 0s 744us/step - loss: 0.0424 - accuracy: 0.9859\n",
      "Epoch 82/100\n",
      "378/378 [==============================] - 0s 761us/step - loss: 0.0402 - accuracy: 0.9865\n",
      "Epoch 83/100\n",
      "378/378 [==============================] - 0s 799us/step - loss: 0.0404 - accuracy: 0.9864\n",
      "Epoch 84/100\n",
      "378/378 [==============================] - 0s 754us/step - loss: 0.0412 - accuracy: 0.9854\n",
      "Epoch 85/100\n",
      "378/378 [==============================] - 0s 773us/step - loss: 0.0398 - accuracy: 0.9860\n",
      "Epoch 86/100\n",
      "378/378 [==============================] - 0s 799us/step - loss: 0.0415 - accuracy: 0.9863\n",
      "Epoch 87/100\n",
      "378/378 [==============================] - 0s 767us/step - loss: 0.0389 - accuracy: 0.9875\n",
      "Epoch 88/100\n",
      "378/378 [==============================] - 0s 781us/step - loss: 0.0385 - accuracy: 0.9869\n",
      "Epoch 89/100\n",
      "378/378 [==============================] - 0s 815us/step - loss: 0.0404 - accuracy: 0.9864\n",
      "Epoch 90/100\n",
      "378/378 [==============================] - 0s 864us/step - loss: 0.0393 - accuracy: 0.9862\n",
      "Epoch 91/100\n",
      "378/378 [==============================] - 0s 789us/step - loss: 0.0404 - accuracy: 0.9862\n",
      "Epoch 92/100\n",
      "378/378 [==============================] - 0s 778us/step - loss: 0.0409 - accuracy: 0.9861\n",
      "Epoch 93/100\n",
      "378/378 [==============================] - 0s 781us/step - loss: 0.0389 - accuracy: 0.9868\n",
      "Epoch 94/100\n",
      "378/378 [==============================] - 0s 786us/step - loss: 0.0397 - accuracy: 0.9865\n",
      "Epoch 95/100\n",
      "378/378 [==============================] - 0s 766us/step - loss: 0.0359 - accuracy: 0.9880\n",
      "Epoch 96/100\n",
      "378/378 [==============================] - 0s 781us/step - loss: 0.0380 - accuracy: 0.9871\n",
      "Epoch 97/100\n",
      "378/378 [==============================] - 0s 848us/step - loss: 0.0389 - accuracy: 0.9871\n",
      "Epoch 98/100\n",
      "378/378 [==============================] - 0s 822us/step - loss: 0.0386 - accuracy: 0.9873\n",
      "Epoch 99/100\n",
      "378/378 [==============================] - 0s 788us/step - loss: 0.0380 - accuracy: 0.9865\n",
      "Epoch 100/100\n",
      "378/378 [==============================] - 0s 862us/step - loss: 0.0380 - accuracy: 0.9866\n",
      "132/132 [==============================] - 0s 517us/step - loss: 0.1515 - accuracy: 0.9667\n"
     ]
    }
   ],
   "source": [
    "# So we got ~89% easily with a simple Random Forest. Let's see what a simple Fully Connected Layer will get us.\n",
    "def baseline_model(num_features=784, num_classes=10, num_layers=[32,32], activation=\"relu\"):\n",
    "    # create model\n",
    "    model = Sequential()\n",
    "    model.add(Dense(num_layers[0], input_dim=num_features, activation=activation))\n",
    "    model.add(Dropout(0.1))\n",
    "    model.add(Dense(num_layers[1], input_dim=num_features, activation=activation))\n",
    "    model.add(Dense(num_classes, activation='softmax'))\n",
    "    # Compile model\n",
    "    model.compile(loss='categorical_crossentropy', optimizer='adam', metrics=['accuracy'])\n",
    "    return model\n",
    "\n",
    "model = baseline_model(num_layers=[32,32])\n",
    "model.fit(X_train, Y_train, epochs=100, batch_size=100)\n",
    "_, accuracy = model.evaluate(X_val, Y_val)"
   ]
  },
  {
   "cell_type": "code",
   "execution_count": 112,
   "metadata": {},
   "outputs": [],
   "source": [
    "# I could keep playing with the hyperparams here but with some very light tuning, we got a ~96.7% accuracy"
   ]
  },
  {
   "cell_type": "code",
   "execution_count": 141,
   "metadata": {},
   "outputs": [],
   "source": [
    "# So let's start playing with some CNNs\n",
    "# Reshape image in 3 dimensions (height = 28px, width = 28px , channel = 1)\n",
    "X_train = X_train.values.reshape(-1,28,28,1)\n",
    "X_val = X_val.values.reshape(-1,28,28,1)\n",
    "X_test = X_test.values.reshape(-1,28,28,1)"
   ]
  },
  {
   "cell_type": "code",
   "execution_count": 136,
   "metadata": {},
   "outputs": [
    {
     "name": "stdout",
     "output_type": "stream",
     "text": [
      "Epoch 1/30\n",
      "189/189 [==============================] - 54s 284ms/step - loss: 0.3882 - accuracy: 0.8733\n",
      "Epoch 2/30\n",
      "189/189 [==============================] - 79s 420ms/step - loss: 0.0926 - accuracy: 0.9718\n",
      "Epoch 3/30\n",
      "189/189 [==============================] - 69s 363ms/step - loss: 0.0629 - accuracy: 0.9807\n",
      "Epoch 4/30\n",
      "189/189 [==============================] - 65s 343ms/step - loss: 0.0533 - accuracy: 0.9833\n",
      "Epoch 5/30\n",
      "189/189 [==============================] - 64s 336ms/step - loss: 0.0456 - accuracy: 0.9853\n",
      "Epoch 6/30\n",
      "189/189 [==============================] - 66s 348ms/step - loss: 0.0383 - accuracy: 0.9878\n",
      "Epoch 7/30\n",
      "189/189 [==============================] - 70s 371ms/step - loss: 0.0341 - accuracy: 0.9889\n",
      "Epoch 8/30\n",
      "189/189 [==============================] - 64s 337ms/step - loss: 0.0276 - accuracy: 0.9912\n",
      "Epoch 9/30\n",
      "189/189 [==============================] - 67s 353ms/step - loss: 0.0253 - accuracy: 0.9921\n",
      "Epoch 10/30\n",
      "189/189 [==============================] - 69s 365ms/step - loss: 0.0250 - accuracy: 0.9920\n",
      "Epoch 11/30\n",
      "189/189 [==============================] - 66s 348ms/step - loss: 0.0212 - accuracy: 0.9931\n",
      "Epoch 12/30\n",
      "189/189 [==============================] - 69s 367ms/step - loss: 0.0211 - accuracy: 0.9929\n",
      "Epoch 13/30\n",
      "189/189 [==============================] - 65s 346ms/step - loss: 0.0187 - accuracy: 0.9937\n",
      "Epoch 14/30\n",
      "189/189 [==============================] - 72s 382ms/step - loss: 0.0193 - accuracy: 0.9933\n",
      "Epoch 15/30\n",
      "189/189 [==============================] - 64s 337ms/step - loss: 0.0173 - accuracy: 0.9942\n",
      "Epoch 16/30\n",
      "189/189 [==============================] - 66s 348ms/step - loss: 0.0139 - accuracy: 0.9956\n",
      "Epoch 17/30\n",
      "189/189 [==============================] - 88s 465ms/step - loss: 0.0161 - accuracy: 0.9945\n",
      "Epoch 18/30\n",
      "189/189 [==============================] - 73s 387ms/step - loss: 0.0151 - accuracy: 0.9951\n",
      "Epoch 19/30\n",
      "189/189 [==============================] - 64s 340ms/step - loss: 0.0144 - accuracy: 0.9955\n",
      "Epoch 20/30\n",
      "189/189 [==============================] - 61s 321ms/step - loss: 0.0129 - accuracy: 0.9954\n",
      "Epoch 21/30\n",
      "189/189 [==============================] - 64s 337ms/step - loss: 0.0123 - accuracy: 0.9961\n",
      "Epoch 22/30\n",
      "189/189 [==============================] - 60s 317ms/step - loss: 0.0118 - accuracy: 0.9960\n",
      "Epoch 23/30\n",
      "189/189 [==============================] - 60s 317ms/step - loss: 0.0117 - accuracy: 0.9960\n",
      "Epoch 24/30\n",
      "189/189 [==============================] - 60s 316ms/step - loss: 0.0107 - accuracy: 0.9966\n",
      "Epoch 25/30\n",
      "189/189 [==============================] - 61s 321ms/step - loss: 0.0107 - accuracy: 0.9965\n",
      "Epoch 26/30\n",
      "189/189 [==============================] - 62s 329ms/step - loss: 0.0132 - accuracy: 0.9959\n",
      "Epoch 27/30\n",
      "189/189 [==============================] - 62s 330ms/step - loss: 0.0106 - accuracy: 0.9967\n",
      "Epoch 28/30\n",
      "189/189 [==============================] - 67s 354ms/step - loss: 0.0107 - accuracy: 0.9966\n",
      "Epoch 29/30\n",
      "189/189 [==============================] - 63s 336ms/step - loss: 0.0111 - accuracy: 0.9962\n",
      "Epoch 30/30\n",
      "189/189 [==============================] - 74s 394ms/step - loss: 0.0091 - accuracy: 0.9969\n",
      "132/132 [==============================] - 2s 12ms/step - loss: 0.0308 - accuracy: 0.9926\n"
     ]
    }
   ],
   "source": [
    "def cnn_model(num_classes=10):\n",
    "    # create model\n",
    "    model = Sequential()\n",
    "    model.add(Conv2D(filters = 16, kernel_size = (7,7),padding = 'Same', \n",
    "                 activation ='relu', input_shape = (28,28,1)))\n",
    "    model.add(Conv2D(filters = 16, kernel_size = (7,7),padding = 'Same', \n",
    "                 activation ='relu'))\n",
    "    model.add(MaxPool2D(pool_size=(2,2)))\n",
    "    model.add(Dropout(0.25))\n",
    "    model.add(Conv2D(filters = 32, kernel_size = (5,5),padding = 'Same', \n",
    "                 activation ='relu', input_shape = (28,28,1)))\n",
    "    model.add(Conv2D(filters = 32, kernel_size = (5,5),padding = 'Same', \n",
    "                 activation ='relu'))\n",
    "    model.add(MaxPool2D(pool_size=(2,2)))\n",
    "    model.add(Dropout(0.25))\n",
    "    model.add(Flatten())\n",
    "    model.add(Dense(128, activation='relu'))\n",
    "    model.add(Dropout(0.25))\n",
    "    model.add(Dense(num_classes, activation='softmax'))\n",
    "    # Compile model\n",
    "    optimizer = Adam(lr=0.001)\n",
    "    model.compile(loss='categorical_crossentropy', optimizer=optimizer, metrics=['accuracy'])\n",
    "    return model\n",
    "\n",
    "model = cnn_model()\n",
    "model.fit(X_train, Y_train, epochs=30, batch_size=200)\n",
    "_, accuracy = model.evaluate(X_val, Y_val)"
   ]
  },
  {
   "cell_type": "code",
   "execution_count": 123,
   "metadata": {},
   "outputs": [
    {
     "name": "stdout",
     "output_type": "stream",
     "text": [
      "Accuracy with a CNN model: 99.3%\n",
      "Total time for training: 27.5 minutes\n"
     ]
    }
   ],
   "source": [
    "print(\"Accuracy with a CNN model: {}{}\".format(99.3,\"%\"))\n",
    "print(\"Total time for training: {}{}\".format(30*55/60, \" minutes\"))"
   ]
  },
  {
   "cell_type": "code",
   "execution_count": 127,
   "metadata": {},
   "outputs": [
    {
     "name": "stdout",
     "output_type": "stream",
     "text": [
      "WARNING:tensorflow:From <ipython-input-127-c5adb198530a>:18: Model.fit_generator (from tensorflow.python.keras.engine.training) is deprecated and will be removed in a future version.\n",
      "Instructions for updating:\n",
      "Please use Model.fit, which supports generators.\n",
      "Epoch 1/30\n",
      "189/189 [==============================] - 54s 287ms/step - loss: 0.3225 - accuracy: 0.9086 - val_loss: 0.0387 - val_accuracy: 0.9895\n",
      "Epoch 2/30\n",
      "189/189 [==============================] - 74s 392ms/step - loss: 0.1327 - accuracy: 0.9608 - val_loss: 0.0344 - val_accuracy: 0.9902\n",
      "Epoch 3/30\n",
      "189/189 [==============================] - 72s 381ms/step - loss: 0.1078 - accuracy: 0.9685 - val_loss: 0.0303 - val_accuracy: 0.9912\n",
      "Epoch 4/30\n",
      "189/189 [==============================] - 72s 383ms/step - loss: 0.0903 - accuracy: 0.9720 - val_loss: 0.0336 - val_accuracy: 0.9898\n",
      "Epoch 5/30\n",
      "189/189 [==============================] - 64s 338ms/step - loss: 0.0827 - accuracy: 0.9757 - val_loss: 0.0330 - val_accuracy: 0.9890\n",
      "Epoch 6/30\n",
      "189/189 [==============================] - 68s 357ms/step - loss: 0.0763 - accuracy: 0.9784 - val_loss: 0.0379 - val_accuracy: 0.9905\n",
      "Epoch 7/30\n",
      "189/189 [==============================] - 71s 376ms/step - loss: 0.0725 - accuracy: 0.9787 - val_loss: 0.0272 - val_accuracy: 0.9910\n",
      "Epoch 8/30\n",
      "189/189 [==============================] - 67s 355ms/step - loss: 0.0674 - accuracy: 0.9800 - val_loss: 0.0268 - val_accuracy: 0.9914\n",
      "Epoch 9/30\n",
      "189/189 [==============================] - 71s 375ms/step - loss: 0.0688 - accuracy: 0.9806 - val_loss: 0.0265 - val_accuracy: 0.9919\n",
      "Epoch 10/30\n",
      "189/189 [==============================] - 68s 362ms/step - loss: 0.0631 - accuracy: 0.9819 - val_loss: 0.0310 - val_accuracy: 0.9912\n",
      "Epoch 11/30\n",
      "189/189 [==============================] - 67s 354ms/step - loss: 0.0629 - accuracy: 0.9813 - val_loss: 0.0288 - val_accuracy: 0.9910\n",
      "Epoch 12/30\n",
      "189/189 [==============================] - 66s 347ms/step - loss: 0.0566 - accuracy: 0.9826 - val_loss: 0.0250 - val_accuracy: 0.9929\n",
      "Epoch 13/30\n",
      "189/189 [==============================] - 67s 354ms/step - loss: 0.0548 - accuracy: 0.9835 - val_loss: 0.0277 - val_accuracy: 0.9910\n",
      "Epoch 14/30\n",
      "189/189 [==============================] - 65s 344ms/step - loss: 0.0584 - accuracy: 0.9827 - val_loss: 0.0306 - val_accuracy: 0.9914\n",
      "Epoch 15/30\n",
      "189/189 [==============================] - 65s 343ms/step - loss: 0.0525 - accuracy: 0.9840 - val_loss: 0.0270 - val_accuracy: 0.9921\n",
      "Epoch 16/30\n",
      "189/189 [==============================] - 64s 339ms/step - loss: 0.0538 - accuracy: 0.9843 - val_loss: 0.0319 - val_accuracy: 0.9919\n",
      "Epoch 17/30\n",
      "189/189 [==============================] - 65s 341ms/step - loss: 0.0517 - accuracy: 0.9846 - val_loss: 0.0321 - val_accuracy: 0.9898\n",
      "Epoch 18/30\n",
      "189/189 [==============================] - 66s 350ms/step - loss: 0.0516 - accuracy: 0.9847 - val_loss: 0.0286 - val_accuracy: 0.9917\n",
      "Epoch 19/30\n",
      "189/189 [==============================] - 63s 333ms/step - loss: 0.0508 - accuracy: 0.9847 - val_loss: 0.0334 - val_accuracy: 0.9919\n",
      "Epoch 20/30\n",
      "189/189 [==============================] - 63s 336ms/step - loss: 0.0543 - accuracy: 0.9844 - val_loss: 0.0270 - val_accuracy: 0.9921\n",
      "Epoch 21/30\n",
      "189/189 [==============================] - 60s 320ms/step - loss: 0.0486 - accuracy: 0.9860 - val_loss: 0.0273 - val_accuracy: 0.9919\n",
      "Epoch 22/30\n",
      "189/189 [==============================] - 63s 331ms/step - loss: 0.0490 - accuracy: 0.9854 - val_loss: 0.0291 - val_accuracy: 0.9926\n",
      "Epoch 23/30\n",
      "189/189 [==============================] - 60s 317ms/step - loss: 0.0481 - accuracy: 0.9861 - val_loss: 0.0319 - val_accuracy: 0.9921\n",
      "Epoch 24/30\n",
      "189/189 [==============================] - 60s 316ms/step - loss: 0.0477 - accuracy: 0.9861 - val_loss: 0.0273 - val_accuracy: 0.9912\n",
      "Epoch 25/30\n",
      "189/189 [==============================] - 59s 312ms/step - loss: 0.0433 - accuracy: 0.9869 - val_loss: 0.0279 - val_accuracy: 0.9929\n",
      "Epoch 26/30\n",
      "189/189 [==============================] - 59s 314ms/step - loss: 0.0479 - accuracy: 0.9869 - val_loss: 0.0270 - val_accuracy: 0.9929\n",
      "Epoch 27/30\n",
      "189/189 [==============================] - 60s 319ms/step - loss: 0.0449 - accuracy: 0.9868 - val_loss: 0.0277 - val_accuracy: 0.9931\n",
      "Epoch 28/30\n",
      "189/189 [==============================] - 58s 308ms/step - loss: 0.0461 - accuracy: 0.9869 - val_loss: 0.0318 - val_accuracy: 0.9919\n",
      "Epoch 29/30\n",
      "189/189 [==============================] - 59s 313ms/step - loss: 0.0472 - accuracy: 0.9861 - val_loss: 0.0290 - val_accuracy: 0.9924\n",
      "Epoch 30/30\n",
      "189/189 [==============================] - 59s 312ms/step - loss: 0.0441 - accuracy: 0.9873 - val_loss: 0.0274 - val_accuracy: 0.9924\n"
     ]
    }
   ],
   "source": [
    "# Fairly simple CNN got us 99.3%. Worth trying to add some data augmentation\n",
    "\n",
    "# initialize the number of epochs and batch size\n",
    "EPOCHS = 30\n",
    "BS = 200\n",
    "STEPS_PER_EPOCH = len(X_train)/BS\n",
    "# construct the training image generator for data augmentation\n",
    "aug = ImageDataGenerator(\n",
    "    rotation_range=20,\n",
    "    zoom_range=0.15,\n",
    "    width_shift_range=0.2,\n",
    "    height_shift_range=0.2,\n",
    "    shear_range=0.15,\n",
    "    horizontal_flip=False,\n",
    "    vertical_flip=False,\n",
    "    fill_mode=\"nearest\")\n",
    "# train the network\n",
    "H = model.fit_generator(aug.flow(X_train, Y_train, batch_size=BS),\n",
    "    validation_data=(X_val, Y_val), steps_per_epoch=STEPS_PER_EPOCH,\n",
    "    epochs=EPOCHS)"
   ]
  },
  {
   "cell_type": "code",
   "execution_count": 129,
   "metadata": {},
   "outputs": [
    {
     "name": "stdout",
     "output_type": "stream",
     "text": [
      "Accuracy with a CNN model: 99.2%\n",
      "Total time for training: 31.5 minutes\n"
     ]
    }
   ],
   "source": [
    "print(\"Accuracy with a CNN model: {}{}\".format(99.2,\"%\"))\n",
    "print(\"Total time for training: {}{}\".format(30*63/60, \" minutes\"))"
   ]
  },
  {
   "cell_type": "code",
   "execution_count": 130,
   "metadata": {},
   "outputs": [],
   "source": [
    "# Not huge improvement with the addition of Data Aug. Let's check out the confusion matrix"
   ]
  },
  {
   "cell_type": "code",
   "execution_count": 132,
   "metadata": {},
   "outputs": [
    {
     "data": {
      "image/png": "[encoded data removed]",
      "text/plain": [
       "<Figure size 432x288 with 2 Axes>"
      ]
     },
     "metadata": {
      "needs_background": "light"
     },
     "output_type": "display_data"
    }
   ],
   "source": [
    "def plot_confusion_matrix(cm, classes,\n",
    "                          normalize=False,\n",
    "                          title='Confusion matrix',\n",
    "                          cmap=plt.cm.Blues):\n",
    "    \"\"\"\n",
    "    This function prints and plots the confusion matrix.\n",
    "    Normalization can be applied by setting `normalize=True`.\n",
    "    \"\"\"\n",
    "    plt.imshow(cm, interpolation='nearest', cmap=cmap)\n",
    "    plt.title(title)\n",
    "    plt.colorbar()\n",
    "    tick_marks = np.arange(len(classes))\n",
    "    plt.xticks(tick_marks, classes, rotation=45)\n",
    "    plt.yticks(tick_marks, classes)\n",
    "\n",
    "    if normalize:\n",
    "        cm = cm.astype('float') / cm.sum(axis=1)[:, np.newaxis]\n",
    "\n",
    "    thresh = cm.max() / 2.\n",
    "    for i, j in itertools.product(range(cm.shape[0]), range(cm.shape[1])):\n",
    "        plt.text(j, i, cm[i, j],\n",
    "                 horizontalalignment=\"center\",\n",
    "                 color=\"white\" if cm[i, j] > thresh else \"black\")\n",
    "\n",
    "    plt.tight_layout()\n",
    "    plt.ylabel('True label')\n",
    "    plt.xlabel('Predicted label')\n",
    "\n",
    "# Predict the values from the validation dataset\n",
    "Y_pred = model.predict(X_val)\n",
    "# Convert predictions classes to one hot vectors \n",
    "Y_pred_classes = np.argmax(Y_pred,axis = 1) \n",
    "# Convert validation observations to one hot vectors\n",
    "Y_true = np.argmax(Y_val,axis = 1) \n",
    "# compute the confusion matrix\n",
    "confusion_mtx = confusion_matrix(Y_true, Y_pred_classes) \n",
    "# plot the confusion matrix\n",
    "plot_confusion_matrix(confusion_mtx, classes = range(10)) "
   ]
  },
  {
   "cell_type": "code",
   "execution_count": 133,
   "metadata": {},
   "outputs": [],
   "source": [
    "# Some 3s getting confused for 5s, some 7s for 1s, some 9s for 8s. Really low numbers and potentially expected errors."
   ]
  },
  {
   "cell_type": "code",
   "execution_count": 135,
   "metadata": {},
   "outputs": [],
   "source": [
    "# Ack - some code was borrowed by Yassine Ghouzam, PhD. Thanks Yassine. Go checkout his implmentation at:\n",
    "# https://www.kaggle.com/yassineghouzam/introduction-to-cnn-keras-0-997-top-6"
   ]
  },
  {
   "cell_type": "code",
   "execution_count": 144,
   "metadata": {},
   "outputs": [],
   "source": [
    "Y_submission = model.predict(X_test)"
   ]
  },
  {
   "cell_type": "code",
   "execution_count": 149,
   "metadata": {},
   "outputs": [],
   "source": [
    "Y_submission = np.argmax(Y_submission,axis = 1)\n",
    "Y_submission = pd.Series(Y_submission,name=\"Label\")"
   ]
  },
  {
   "cell_type": "code",
   "execution_count": 150,
   "metadata": {},
   "outputs": [],
   "source": [
    "submission = pd.concat([pd.Series(range(1,28001),name = \"ImageId\"),Y_submission],axis = 1)\n",
    "submission.to_csv(\"kaggle_comp_mnist.csv\",index=False)"
   ]
  },
  {
   "cell_type": "code",
   "execution_count": 151,
   "metadata": {},
   "outputs": [
    {
     "data": {
      "text/html": [
       "<div>\n",
       "<style scoped>\n",
       "    .dataframe tbody tr th:only-of-type {\n",
       "        vertical-align: middle;\n",
       "    }\n",
       "\n",
       "    .dataframe tbody tr th {\n",
       "        vertical-align: top;\n",
       "    }\n",
       "\n",
       "    .dataframe thead th {\n",
       "        text-align: right;\n",
       "    }\n",
       "</style>\n",
       "<table border=\"1\" class=\"dataframe\">\n",
       "  <thead>\n",
       "    <tr style=\"text-align: right;\">\n",
       "      <th></th>\n",
       "      <th>ImageId</th>\n",
       "      <th>Label</th>\n",
       "    </tr>\n",
       "  </thead>\n",
       "  <tbody>\n",
       "    <tr>\n",
       "      <th>0</th>\n",
       "      <td>1</td>\n",
       "      <td>2</td>\n",
       "    </tr>\n",
       "    <tr>\n",
       "      <th>1</th>\n",
       "      <td>2</td>\n",
       "      <td>0</td>\n",
       "    </tr>\n",
       "    <tr>\n",
       "      <th>2</th>\n",
       "      <td>3</td>\n",
       "      <td>9</td>\n",
       "    </tr>\n",
       "    <tr>\n",
       "      <th>3</th>\n",
       "      <td>4</td>\n",
       "      <td>0</td>\n",
       "    </tr>\n",
       "    <tr>\n",
       "      <th>4</th>\n",
       "      <td>5</td>\n",
       "      <td>3</td>\n",
       "    </tr>\n",
       "    <tr>\n",
       "      <th>...</th>\n",
       "      <td>...</td>\n",
       "      <td>...</td>\n",
       "    </tr>\n",
       "    <tr>\n",
       "      <th>27995</th>\n",
       "      <td>27996</td>\n",
       "      <td>9</td>\n",
       "    </tr>\n",
       "    <tr>\n",
       "      <th>27996</th>\n",
       "      <td>27997</td>\n",
       "      <td>7</td>\n",
       "    </tr>\n",
       "    <tr>\n",
       "      <th>27997</th>\n",
       "      <td>27998</td>\n",
       "      <td>3</td>\n",
       "    </tr>\n",
       "    <tr>\n",
       "      <th>27998</th>\n",
       "      <td>27999</td>\n",
       "      <td>9</td>\n",
       "    </tr>\n",
       "    <tr>\n",
       "      <th>27999</th>\n",
       "      <td>28000</td>\n",
       "      <td>2</td>\n",
       "    </tr>\n",
       "  </tbody>\n",
       "</table>\n",
       "<p>28000 rows × 2 columns</p>\n",
       "</div>"
      ],
      "text/plain": [
       "       ImageId  Label\n",
       "0            1      2\n",
       "1            2      0\n",
       "2            3      9\n",
       "3            4      0\n",
       "4            5      3\n",
       "...        ...    ...\n",
       "27995    27996      9\n",
       "27996    27997      7\n",
       "27997    27998      3\n",
       "27998    27999      9\n",
       "27999    28000      2\n",
       "\n",
       "[28000 rows x 2 columns]"
      ]
     },
     "execution_count": 151,
     "metadata": {},
     "output_type": "execute_result"
    }
   ],
   "source": [
    "submission"
   ]
  },
  {
   "cell_type": "code",
   "execution_count": null,
   "metadata": {},
   "outputs": [],
   "source": []
  }
 ],
 "metadata": {
  "kernelspec": {
   "display_name": "Python 3",
   "language": "python",
   "name": "python3"
  },
  "language_info": {
   "codemirror_mode": {
    "name": "ipython",
    "version": 3
   },
   "file_extension": ".py",
   "mimetype": "text/x-python",
   "name": "python",
   "nbconvert_exporter": "python",
   "pygments_lexer": "ipython3",
   "version": "3.8.5"
  }
 },
 "nbformat": 4,
 "nbformat_minor": 4
}
